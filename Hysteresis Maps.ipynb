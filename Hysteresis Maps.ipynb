{
 "cells": [
  {
   "cell_type": "markdown",
   "metadata": {},
   "source": [
    "# Maps of Measured and Calculated Hysteresis\n",
    "\n",
    "Various maps of OLR hysteresis: \n",
    "\n",
    "- absolute clear sky OLR hysteresis \n",
    "- fractional clear sky OLR hysteresis \n",
    "- calculated clear sky OLR hysteresis\n",
    "- difference between calculated and measured clear sky OLR hysteresis\n",
    "- absolute all sky hysteresis\n",
    "- fractional all sky hysteresis"
   ]
  },
  {
   "cell_type": "markdown",
   "metadata": {},
   "source": [
    "### Import Packages"
   ]
  },
  {
   "cell_type": "code",
   "execution_count": 2,
   "metadata": {},
   "outputs": [],
   "source": [
    "import numpy as np\n",
    "import matplotlib.pyplot as plt\n",
    "import xarray as xr\n",
    "import cartopy.crs as ccrs\n",
    "from cartopy.util import add_cyclic_point\n",
    "from matplotlib import cm"
   ]
  },
  {
   "cell_type": "markdown",
   "metadata": {},
   "source": [
    "### Import Calculated Heights file from Cluster"
   ]
  },
  {
   "cell_type": "code",
   "execution_count": 3,
   "metadata": {},
   "outputs": [
    {
     "name": "stderr",
     "output_type": "stream",
     "text": [
      "C:\\Users\\richa\\Anaconda3\\lib\\site-packages\\cartopy\\util.py:102: FutureWarning: Using a non-tuple sequence for multidimensional indexing is deprecated; use `arr[tuple(seq)]` instead of `arr[seq]`. In the future this will be interpreted as an array index, `arr[np.array(seq)]`, which will result either in an error or a different result.\n",
      "  new_data = ma.concatenate((data, data[slicer]), axis=axis)\n"
     ]
    },
    {
     "ename": "NameError",
     "evalue": "name 'heights_calc' is not defined",
     "output_type": "error",
     "traceback": [
      "\u001b[1;31m---------------------------------------------------------------------------\u001b[0m",
      "\u001b[1;31mNameError\u001b[0m                                 Traceback (most recent call last)",
      "\u001b[1;32m<ipython-input-3-df3cf10e93b0>\u001b[0m in \u001b[0;36m<module>\u001b[1;34m\u001b[0m\n\u001b[0;32m     24\u001b[0m         \u001b[0mheights_frac_allsky\u001b[0m\u001b[1;33m[\u001b[0m\u001b[0mi\u001b[0m\u001b[1;33m,\u001b[0m\u001b[0mj\u001b[0m\u001b[1;33m]\u001b[0m \u001b[1;33m=\u001b[0m \u001b[0mheights_calc_allsky\u001b[0m\u001b[1;33m.\u001b[0m\u001b[0mheight\u001b[0m\u001b[1;33m.\u001b[0m\u001b[0mvalues\u001b[0m\u001b[1;33m[\u001b[0m\u001b[0mi\u001b[0m\u001b[1;33m,\u001b[0m\u001b[0mj\u001b[0m\u001b[1;33m]\u001b[0m \u001b[1;33m*\u001b[0m \u001b[1;36m100\u001b[0m \u001b[1;33m/\u001b[0m \u001b[0molrs\u001b[0m\u001b[1;33m.\u001b[0m\u001b[0msel\u001b[0m\u001b[1;33m(\u001b[0m\u001b[0mlat\u001b[0m\u001b[1;33m=\u001b[0m\u001b[0mlats\u001b[0m\u001b[1;33m[\u001b[0m\u001b[0mi\u001b[0m\u001b[1;33m]\u001b[0m\u001b[1;33m,\u001b[0m \u001b[0mlon\u001b[0m\u001b[1;33m=\u001b[0m\u001b[0mlons\u001b[0m\u001b[1;33m[\u001b[0m\u001b[0mj\u001b[0m\u001b[1;33m]\u001b[0m\u001b[1;33m)\u001b[0m\u001b[1;33m.\u001b[0m\u001b[0molr\u001b[0m\u001b[1;33m.\u001b[0m\u001b[0mvalues\u001b[0m\u001b[1;33m[\u001b[0m\u001b[1;36m0\u001b[0m\u001b[1;33m]\u001b[0m\u001b[1;33m\u001b[0m\u001b[1;33m\u001b[0m\u001b[0m\n\u001b[0;32m     25\u001b[0m \u001b[1;33m\u001b[0m\u001b[0m\n\u001b[1;32m---> 26\u001b[1;33m \u001b[0mheights_calc\u001b[0m\u001b[1;33m[\u001b[0m\u001b[1;33m:\u001b[0m\u001b[1;33m,\u001b[0m\u001b[0mlen\u001b[0m\u001b[1;33m(\u001b[0m\u001b[0mlons\u001b[0m\u001b[1;33m)\u001b[0m\u001b[1;33m]\u001b[0m \u001b[1;33m=\u001b[0m \u001b[0mheights_calc\u001b[0m\u001b[1;33m[\u001b[0m\u001b[1;33m:\u001b[0m\u001b[1;33m,\u001b[0m\u001b[1;36m0\u001b[0m\u001b[1;33m]\u001b[0m\u001b[1;33m\u001b[0m\u001b[1;33m\u001b[0m\u001b[0m\n\u001b[0m\u001b[0;32m     27\u001b[0m \u001b[0mheights_calc\u001b[0m \u001b[1;33m=\u001b[0m \u001b[0mnp\u001b[0m\u001b[1;33m.\u001b[0m\u001b[0mflip\u001b[0m\u001b[1;33m(\u001b[0m\u001b[0mheights_calc\u001b[0m\u001b[1;33m,\u001b[0m \u001b[0maxis\u001b[0m\u001b[1;33m=\u001b[0m\u001b[1;36m0\u001b[0m\u001b[1;33m)\u001b[0m\u001b[1;33m\u001b[0m\u001b[1;33m\u001b[0m\u001b[0m\n\u001b[0;32m     28\u001b[0m \u001b[1;33m\u001b[0m\u001b[0m\n",
      "\u001b[1;31mNameError\u001b[0m: name 'heights_calc' is not defined"
     ]
    }
   ],
   "source": [
    "path = './Data/'\n",
    "\n",
    "ts_2m = xr.open_dataset(path + 'ts_2m.nc', decode_times=False)\n",
    "temp = xr.open_dataset(path + 'temp.nc', decode_times=False)\n",
    "olrs = xr.open_dataset(path + 'olrs_ltmm.nc', decode_times=False)\n",
    "heights_calc_raw = xr.open_dataset(path + 'heights_calculated.nc', decode_times=False)\n",
    "heights_meas_raw = xr.open_dataset(path + 'heights_measured.nc', decode_times=False)\n",
    "heights_calc_allsky = xr.open_dataset('./Data/heights_calculated_allsky.nc', decode_times=False)\n",
    "\n",
    "lats = temp.lat.values\n",
    "lons = temp.lon.values\n",
    "lon_long = temp.lon.values\n",
    "\n",
    "heights_frac = np.zeros((len(lats), len(lons)))\n",
    "heights_frac, lons = add_cyclic_point(heights_frac, coord=lons)\n",
    "lons = temp.lon.values\n",
    "\n",
    "heights_frac_allsky = np.zeros((len(lats), len(lons)))\n",
    "heights_frac_allsky, lon_long = add_cyclic_point(heights_frac_allsky, coord=lon_long)\n",
    "\n",
    "for i in range(len(lats)):\n",
    "    for j in range(len(lons)):\n",
    "        heights_frac[i,j] = heights_meas_raw.height.values[i,j] * 100 / olrs.sel(lat=lats[i], lon=lons[j]).olr.values[0]\n",
    "        heights_frac_allsky[i,j] = heights_calc_allsky.height.values[i,j] * 100 / olrs.sel(lat=lats[i], lon=lons[j]).olr.values[0]\n",
    "\n",
    "heights_calc[:,len(lons)] = heights_calc[:,0]\n",
    "heights_calc = np.flip(heights_calc, axis=0)\n",
    "    \n",
    "heights_meas[:,len(lons)] = heights_meas[:,0]"
   ]
  },
  {
   "cell_type": "markdown",
   "metadata": {},
   "source": [
    "### Plotting Observed Hysteresis"
   ]
  },
  {
   "cell_type": "code",
   "execution_count": null,
   "metadata": {},
   "outputs": [],
   "source": [
    "widths = [1]\n",
    "fig = plt.figure(figsize=(10,7),constrained_layout=True)\n",
    "gs = fig.add_gridspec(ncols=1, nrows=1, width_ratios=widths)    \n",
    "\n",
    "ax1 = fig.add_subplot(gs[0], projection=ccrs.PlateCarree())\n",
    "ax1.coastlines()\n",
    "C1 = ax1.pcolor(lon_long, lats, heights_meas_raw.height.values, transform=ccrs.PlateCarree())\n",
    "C1.set_clim(vmin=0,vmax=18)\n",
    "ax1.set_title('a')\n",
    "fig.colorbar(C1, ax=ax1, label='OLR Hysteresis (W m$^{-2}$)',fraction=0.3, orientation=\"horizontal\")\n",
    "\n",
    "path = './Figures/'\n",
    "#plt.savefig('Calculated Hysteresis single.png', bbox_inches='tight')"
   ]
  },
  {
   "cell_type": "markdown",
   "metadata": {},
   "source": [
    "### Fractional Hysteresis"
   ]
  },
  {
   "cell_type": "code",
   "execution_count": null,
   "metadata": {},
   "outputs": [],
   "source": [
    "widths = [1]\n",
    "fig = plt.figure(figsize=(10,7),constrained_layout=True)\n",
    "gs = fig.add_gridspec(ncols=1, nrows=1, width_ratios=widths)    \n",
    "\n",
    "ax1 = fig.add_subplot(gs[0], projection=ccrs.PlateCarree())\n",
    "ax1.coastlines()\n",
    "C1 = ax1.pcolor(lon_long, lats, heights_frac, transform=ccrs.PlateCarree())\n",
    "ax1.set_title('b')\n",
    "fig.colorbar(C1, ax=ax1, label='% OLR Hysteresis',fraction=0.3, orientation=\"horizontal\")\n",
    "\n",
    "path = './Figures/'\n",
    "#plt.savefig(path + 'Fractional Calculated Hysteresis single.png', bbox_inches='tight')"
   ]
  },
  {
   "cell_type": "markdown",
   "metadata": {},
   "source": [
    "### Calculated Hysteresis"
   ]
  },
  {
   "cell_type": "code",
   "execution_count": null,
   "metadata": {},
   "outputs": [],
   "source": [
    "widths = [1,1]\n",
    "fig = plt.figure(figsize=(10,7),constrained_layout=True)\n",
    "gs = fig.add_gridspec(ncols=1, nrows=1)    \n",
    "\n",
    "ax2 = fig.add_subplot(gs[0], projection=ccrs.PlateCarree())\n",
    "ax2.coastlines()\n",
    "C2 = ax2.pcolor(lon_long, lats, np.flip(heights_calc_raw.height.values, axis=0), transform=ccrs.PlateCarree())\n",
    "C2.set_clim(vmin=0,vmax=18)\n",
    "ax2.set_title('b')\n",
    "fig.colorbar(C2, ax=ax2, label='Calculated OLR Hysteresis (W m$^{-2}$)',fraction=0.3, orientation=\"horizontal\")\n",
    "\n",
    "path = './Figures/'\n",
    "#plt.savefig(path + 'Calc Hysteresis.png', bbox_inches='tight')"
   ]
  },
  {
   "cell_type": "markdown",
   "metadata": {},
   "source": [
    "### Difference Between Calculated and Measured Hysteresis"
   ]
  },
  {
   "cell_type": "code",
   "execution_count": null,
   "metadata": {},
   "outputs": [],
   "source": [
    "diferencemap = heights_meas.copy()\n",
    "\n",
    "for i in range(len(heights_meas[:,0])):\n",
    "    for j in range(len(heights_meas[0,:])):\n",
    "        diferencemap[i,j] = 0\n",
    "        diferencemap[i,j] = heights_calc[i,j] - heights_meas[i,j]\n",
    "\n",
    "widths = [1,1]\n",
    "fig = plt.figure(figsize=(10,7),constrained_layout=True)\n",
    "gs = fig.add_gridspec(ncols=1, nrows=1)    \n",
    "\n",
    "ax2 = fig.add_subplot(gs[0], projection=ccrs.PlateCarree())\n",
    "ax2.coastlines()\n",
    "C2 = ax2.pcolor(lon_long, lats, diferencemap, transform=ccrs.PlateCarree(), cmap=cm.RdBu_r)\n",
    "C2.set_clim(vmin=-7,vmax=7)\n",
    "fig.colorbar(C2, ax=ax2, label='Difference in OLR Hysteresis (W m$^{-2}$)',fraction=0.3, orientation=\"horizontal\")\n",
    "\n",
    "path = './Figures/'\n",
    "#plt.savefig(path + 'Diff Hysteresis.png', bbox_inches='tight')"
   ]
  },
  {
   "cell_type": "markdown",
   "metadata": {},
   "source": [
    "### All sky Hysteresis"
   ]
  },
  {
   "cell_type": "code",
   "execution_count": null,
   "metadata": {},
   "outputs": [],
   "source": [
    "widths = [1]\n",
    "fig = plt.figure(figsize=(10,7),constrained_layout=True)\n",
    "gs = fig.add_gridspec(ncols=1, nrows=1, width_ratios=widths)    \n",
    "\n",
    "ax1 = fig.add_subplot(gs[0], projection=ccrs.PlateCarree())\n",
    "ax1.coastlines()\n",
    "C1 = ax1.pcolor(lon_long, lats, heights_calc_allsky.height.values, transform=ccrs.PlateCarree())\n",
    "ax1.set_title('b - All Sky')\n",
    "fig.colorbar(C1, ax=ax1, label='OLR Hysteresis (W m$^{-2}$)',fraction=0.3, orientation=\"horizontal\")\n",
    "\n",
    "path = './Figures/'\n",
    "#plt.savefig(path + 'all sky hysteresis.png', bbox_inches='tight')"
   ]
  },
  {
   "cell_type": "markdown",
   "metadata": {},
   "source": [
    "### Fractional All Sky"
   ]
  },
  {
   "cell_type": "code",
   "execution_count": null,
   "metadata": {},
   "outputs": [],
   "source": [
    "widths = [1]\n",
    "fig = plt.figure(figsize=(10,7),constrained_layout=True)\n",
    "gs = fig.add_gridspec(ncols=1, nrows=1, width_ratios=widths)    \n",
    "\n",
    "ax1 = fig.add_subplot(gs[0], projection=ccrs.PlateCarree())\n",
    "ax1.coastlines()\n",
    "C1 = ax1.pcolor(lon_long, lats, heights_frac_allsky, transform=ccrs.PlateCarree())\n",
    "fig.colorbar(C1, ax=ax1, label='% All Sky OLR Hysteresis',fraction=0.3, orientation=\"horizontal\")\n",
    "\n",
    "path = './Figures/'\n",
    "#plt.savefig(path + 'all sky hysteresis fractional.png', bbox_inches='tight')"
   ]
  }
 ],
 "metadata": {
  "kernelspec": {
   "display_name": "Python 3",
   "language": "python",
   "name": "python3"
  },
  "language_info": {
   "codemirror_mode": {
    "name": "ipython",
    "version": 3
   },
   "file_extension": ".py",
   "mimetype": "text/x-python",
   "name": "python",
   "nbconvert_exporter": "python",
   "pygments_lexer": "ipython3",
   "version": "3.7.7"
  }
 },
 "nbformat": 4,
 "nbformat_minor": 4
}
